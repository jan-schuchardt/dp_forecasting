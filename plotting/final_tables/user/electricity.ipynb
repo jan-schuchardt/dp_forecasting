{
 "cells": [
  {
   "cell_type": "code",
   "execution_count": 17,
   "metadata": {},
   "outputs": [],
   "source": [
    "import pandas as pd\n",
    "from seml import get_results"
   ]
  },
  {
   "cell_type": "code",
   "execution_count": null,
   "metadata": {},
   "outputs": [],
   "source": [
    "df = get_results(\n",
    "    'dp_timeseries_dp_train_standard_eval_user_level',\n",
    "    [\n",
    "        'config.seed',\n",
    "        'config.estimator_name',\n",
    "        'config.dp_optimizer_kwargs.max_grad_norm',\n",
    "        'config.dp_optimizer_kwargs.noise_multiplier',\n",
    "        'config.estimator_kwargs.relative_context_length',\n",
    "        'config.dp_accountant_kwargs.budget_epsilon',\n",
    "        'config.neighboring_relation.size',\n",
    "        'result.metrics_test.mean_wQuantileLoss',\n",
    "        'result.metrics_test.MAPE',\n",
    "    ],\n",
    "    to_data_frame=True,\n",
    "    filter_dict={\n",
    "        'config.dataset_kwargs.dataset_name': 'electricity',\n",
    "        'config.estimator_kwargs.trainer_kwargs.max_epochs': 8000,\n",
    "        'config.top_level_mode': 'sampling_without_replacement',\n",
    "        'config.instances_per_sequence': 1,\n",
    "        'config.estimator_kwargs.batch_size': {'$in': [128]},\n",
    "        'config.dp_optimizer_kwargs.max_grad_norm': {'$in': [0.001, 0.0001]},\n",
    "        'config.dp_optimizer_kwargs.noise_multiplier': {'$in': [1.0, 2.0]},\n",
    "        'config.estimator_kwargs.relative_context_length': {'$in': [1, 2]},\n",
    "        'config.dp_accountant_kwargs.budget_delta': 1e-7,\n",
    "        'config.estimator_kwargs.lags_seq': {'$in': [None,\n",
    "                                                     [1, 2, 3, 4, 5, 6, 7, 23, 24, 25]]},\n",
    "        'config.tight_privacy_loss': True\n",
    "    }\n",
    ")"
   ]
  },
  {
   "cell_type": "code",
   "execution_count": 19,
   "metadata": {},
   "outputs": [],
   "source": [
    "columns = df.columns[1:]\n",
    "\n",
    "df = df.rename(columns={\n",
    "    c: c.split('.')[-1]\n",
    "    for c in columns\n",
    "})"
   ]
  },
  {
   "cell_type": "code",
   "execution_count": null,
   "metadata": {},
   "outputs": [],
   "source": [
    "df"
   ]
  },
  {
   "cell_type": "code",
   "execution_count": 21,
   "metadata": {},
   "outputs": [],
   "source": [
    "def create_table(df: pd.DataFrame,\n",
    "                 relative_context_length: int,\n",
    "                 max_grad_norm: float,\n",
    "                 noise_multiplier: float,\n",
    "                 budget_epsilon: float,\n",
    "                 errors: bool = False\n",
    ") -> pd.DataFrame:\n",
    "\n",
    "    df = df.copy()\n",
    "\n",
    "    df = df[\n",
    "        (df['relative_context_length'] == relative_context_length)\n",
    "        & (df['max_grad_norm'] == max_grad_norm)\n",
    "        & (df['noise_multiplier'] == noise_multiplier)\n",
    "        & (df['budget_epsilon'] == budget_epsilon)\n",
    "    ]\n",
    "\n",
    "    print(len(df))\n",
    "\n",
    "    # Average over random seeds\n",
    "    if not errors:\n",
    "        df = df.groupby(\n",
    "            ['max_grad_norm', 'noise_multiplier', 'relative_context_length', 'estimator_name', 'budget_epsilon', 'size']\n",
    "        ).mean().reset_index()\n",
    "    else:\n",
    "        df = df.groupby(\n",
    "            ['max_grad_norm', 'noise_multiplier', 'relative_context_length', 'estimator_name', 'budget_epsilon', 'size']\n",
    "        ).std().reset_index()\n",
    "\n",
    "    print(df.columns)\n",
    "\n",
    "    df = df.drop(columns=[\n",
    "        '_id',\n",
    "        'seed', 'relative_context_length',\n",
    "        'max_grad_norm', 'noise_multiplier', '_id', 'budget_epsilon', 'budget_epsilon'])\n",
    "\n",
    "    df = df.sort_values(by=['estimator_name', 'size'])\n",
    "\n",
    "    return df"
   ]
  },
  {
   "cell_type": "markdown",
   "metadata": {},
   "source": [
    "### Relative context length 1, noise multiplier 2"
   ]
  },
  {
   "cell_type": "code",
   "execution_count": null,
   "metadata": {},
   "outputs": [],
   "source": [
    "df_mean = create_table(df, 1, 0.0001, 2.0, 4.0)\n",
    "df_mean"
   ]
  },
  {
   "cell_type": "code",
   "execution_count": null,
   "metadata": {},
   "outputs": [],
   "source": [
    "df_std = create_table(df, 1, 0.0001, 2.0, 4.0, errors=True)\n",
    "df_std"
   ]
  },
  {
   "cell_type": "code",
   "execution_count": null,
   "metadata": {},
   "outputs": [],
   "source": [
    "i = 0\n",
    "names = ['DLinear', 'DeepAR', 'iTransf.', 'SimpleFF']\n",
    "\n",
    "acc = f'{names[0]} &'\n",
    "\n",
    "for i, (mean, std) in enumerate(zip(df_mean['mean_wQuantileLoss'], df_std['mean_wQuantileLoss'])):\n",
    "\n",
    "    if (i > 0) and ((i % 4)  == 0):\n",
    "        acc += ' \\\\\\\\'\n",
    "        print(acc)\n",
    "        acc = f'{names[i // 4]} &'\n",
    "    acc += ' $' + f'{mean:.3f}' + '$ '\n",
    "    acc += '\\\\tiny{$\\\\pm ' + f'{std:.3f}' + '$} &'\n",
    "\n",
    "acc += ' \\\\\\\\ '\n",
    "print(acc)"
   ]
  }
 ],
 "metadata": {
  "kernelspec": {
   "display_name": "timeseries_dp",
   "language": "python",
   "name": "python3"
  },
  "language_info": {
   "codemirror_mode": {
    "name": "ipython",
    "version": 3
   },
   "file_extension": ".py",
   "mimetype": "text/x-python",
   "name": "python",
   "nbconvert_exporter": "python",
   "pygments_lexer": "ipython3",
   "version": "3.11.9"
  }
 },
 "nbformat": 4,
 "nbformat_minor": 2
}
