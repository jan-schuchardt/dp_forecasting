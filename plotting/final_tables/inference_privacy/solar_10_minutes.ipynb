{
 "cells": [
  {
   "cell_type": "code",
   "execution_count": 55,
   "metadata": {},
   "outputs": [],
   "source": [
    "import pandas as pd\n",
    "from seml import get_results"
   ]
  },
  {
   "cell_type": "code",
   "execution_count": null,
   "metadata": {},
   "outputs": [],
   "source": [
    "df = get_results(\n",
    "    'dp_timeseries_standard_train_dp_eval',\n",
    "    [\n",
    "        'config.seed',\n",
    "        'config.estimator_name',\n",
    "        'config.inference_kwargs.subsample_transform_kwargs.subsampling_rate',\n",
    "        'config.inference_kwargs.neighboring_relation.target_sensitivity',\n",
    "        'config.inference_kwargs.budget_epsilon',\n",
    "        'config.inference_kwargs.budget_delta',\n",
    "        'result.metrics_test.mean_wQuantileLoss',\n",
    "        'result.metrics_test.MASE'\n",
    "    ],\n",
    "    to_data_frame=True,\n",
    "    filter_dict={\n",
    "        'config.dataset_kwargs.dataset_name': 'solar_10_minutes',\n",
    "        'config.inference_kwargs.imputation_transform_name': 'MeanValueImputation',  # Try both of these\n",
    "        'config.estimator_kwargs.trainer_kwargs.max_epochs': 16000,\n",
    "        'config.top_level_mode': 'sampling_without_replacement',\n",
    "        'config.instances_per_sequence': 1,\n",
    "        'config.estimator_kwargs.batch_size': 128,\n",
    "        'config.estimator_kwargs.relative_context_length': 2,\n",
    "        'config.inference_kwargs.subsample_transform_kwargs.subsampling_rate': {'$in': [0.5, 0.75, 1.0]},\n",
    "        'config.estimator_kwargs.lags_seq': {'$in': [None, [\n",
    "            1, 2, 3, 4, 5, 6, 7, 23, 24, 25, 47, 48, 49, 71, 72, 73,\n",
    "            95, 96, 97, 119, 120, 121, 143, 144, 145, 167, 168, 169]]}\n",
    "    }\n",
    ")"
   ]
  },
  {
   "cell_type": "code",
   "execution_count": 57,
   "metadata": {},
   "outputs": [],
   "source": [
    "columns = df.columns[1:]\n",
    "\n",
    "df = df.rename(columns={\n",
    "    c: c.split('.')[-1]\n",
    "    for c in columns\n",
    "})"
   ]
  },
  {
   "cell_type": "code",
   "execution_count": null,
   "metadata": {},
   "outputs": [],
   "source": [
    "df"
   ]
  },
  {
   "cell_type": "code",
   "execution_count": 59,
   "metadata": {},
   "outputs": [],
   "source": [
    "def create_table(df: pd.DataFrame,\n",
    "                 budget_delta: int,\n",
    "                 target_sensitivity: float,\n",
    "                 errors: bool = False\n",
    ") -> pd.DataFrame:\n",
    "\n",
    "    df = df.copy()\n",
    "\n",
    "    df = df[\n",
    "        (df['budget_delta'] == budget_delta)\n",
    "        & (df['target_sensitivity'] == target_sensitivity)\n",
    "    ]\n",
    "\n",
    "    print(len(df))\n",
    "\n",
    "    # Average over random seeds\n",
    "    if not errors:\n",
    "        df = df.groupby(\n",
    "            ['estimator_name', 'budget_delta', 'budget_epsilon', 'target_sensitivity', 'subsampling_rate']\n",
    "        ).mean().reset_index()\n",
    "    else:\n",
    "        df = df.groupby(\n",
    "            ['estimator_name', 'budget_delta', 'budget_epsilon', 'target_sensitivity', 'subsampling_rate']\n",
    "        ).std().reset_index()\n",
    "\n",
    "    df = df.drop(columns=[\n",
    "        '_id',\n",
    "        'seed', 'budget_delta',\n",
    "        'target_sensitivity', '_id'])\n",
    "\n",
    "    df = df.sort_values(by=['estimator_name', 'subsampling_rate', 'budget_epsilon'],\n",
    "                        ascending=[False, False, True])\n",
    "\n",
    "    return df"
   ]
  },
  {
   "cell_type": "code",
   "execution_count": 60,
   "metadata": {},
   "outputs": [],
   "source": [
    "budget_delta=0.0001\n",
    "target_sensitivity=1.0"
   ]
  },
  {
   "cell_type": "code",
   "execution_count": null,
   "metadata": {},
   "outputs": [],
   "source": [
    "df_mean_no_subsampling = create_table(df, budget_delta=budget_delta, target_sensitivity=target_sensitivity)\n",
    "df_mean_no_subsampling"
   ]
  },
  {
   "cell_type": "code",
   "execution_count": null,
   "metadata": {},
   "outputs": [],
   "source": [
    "df_std_no_subsampling = create_table(df, budget_delta=budget_delta, target_sensitivity=target_sensitivity, errors=True)\n",
    "df_std_no_subsampling"
   ]
  },
  {
   "cell_type": "code",
   "execution_count": null,
   "metadata": {},
   "outputs": [],
   "source": [
    "def rate(i):\n",
    "    mod = i % 3\n",
    "\n",
    "    if mod == 0:\n",
    "        return 1.0\n",
    "    elif mod == 1:\n",
    "        return 0.75\n",
    "    elif mod == 2:\n",
    "        return 0.5\n",
    "\n",
    "i = 0\n",
    "names = ['SimpleFF', 'DeepAR', 'DLinear']\n",
    "names = [[x, x, x] for x in names]\n",
    "names = [x for y in names for x in y]\n",
    "names = [f'{x} ($r=' + f'{rate(i)}' + '$)' \n",
    "        for i, x in enumerate(names)]\n",
    "\n",
    "acc = f'{names[0]} &'\n",
    "\n",
    "for i, (mean, std) in enumerate(zip(df_mean_no_subsampling['mean_wQuantileLoss'], df_std_no_subsampling['mean_wQuantileLoss'])):\n",
    "\n",
    "    if (i > 0) and ((i % 5)  == 0):\n",
    "        acc += ' ? \\\\\\\\'\n",
    "        print(acc)\n",
    "        acc = f'{names[i // 5]} &'\n",
    "    acc += ' $' + f'{mean:.3f}' + '$ '\n",
    "    acc += '\\\\tiny{$\\\\pm ' + f'{std:.3f}' + '$} &'\n",
    "\n",
    "acc += ' ? \\\\\\\\ '\n",
    "print(acc)"
   ]
  },
  {
   "cell_type": "code",
   "execution_count": null,
   "metadata": {},
   "outputs": [],
   "source": []
  }
 ],
 "metadata": {
  "kernelspec": {
   "display_name": "timeseries_dp",
   "language": "python",
   "name": "python3"
  },
  "language_info": {
   "codemirror_mode": {
    "name": "ipython",
    "version": 3
   },
   "file_extension": ".py",
   "mimetype": "text/x-python",
   "name": "python",
   "nbconvert_exporter": "python",
   "pygments_lexer": "ipython3",
   "version": "3.11.9"
  }
 },
 "nbformat": 4,
 "nbformat_minor": 2
}
