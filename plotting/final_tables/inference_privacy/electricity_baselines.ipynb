{
 "cells": [
  {
   "cell_type": "code",
   "execution_count": 29,
   "metadata": {},
   "outputs": [],
   "source": [
    "import pandas as pd\n",
    "from seml import get_results"
   ]
  },
  {
   "cell_type": "code",
   "execution_count": null,
   "metadata": {},
   "outputs": [],
   "source": [
    "df = get_results(\n",
    "    'dp_timeseries_traditional_baselines_dp_eval',\n",
    "    [\n",
    "        'config.seed',\n",
    "        'config.predictor_name',\n",
    "        'config.neighboring_relation.target_sensitivity',\n",
    "        'config.budget_epsilon',\n",
    "        'config.budget_delta',\n",
    "        'result.metrics_test.mean_wQuantileLoss',\n",
    "        'result.metrics_test.MASE'\n",
    "    ],\n",
    "    to_data_frame=True,\n",
    "    filter_dict={\n",
    "        'config.dataset_kwargs.dataset_name': 'electricity',\n",
    "    }\n",
    ")"
   ]
  },
  {
   "cell_type": "code",
   "execution_count": 31,
   "metadata": {},
   "outputs": [],
   "source": [
    "columns = df.columns[1:]\n",
    "\n",
    "df = df.rename(columns={\n",
    "    c: c.split('.')[-1]\n",
    "    for c in columns\n",
    "})"
   ]
  },
  {
   "cell_type": "code",
   "execution_count": null,
   "metadata": {},
   "outputs": [],
   "source": [
    "df"
   ]
  },
  {
   "cell_type": "code",
   "execution_count": 33,
   "metadata": {},
   "outputs": [],
   "source": [
    "def create_table(df: pd.DataFrame,\n",
    "                 budget_delta: int,\n",
    "                 target_sensitivity: float,\n",
    "                 errors: bool = False\n",
    ") -> pd.DataFrame:\n",
    "\n",
    "    df = df.copy()\n",
    "\n",
    "    df = df[\n",
    "        (df['budget_delta'] == budget_delta)\n",
    "        & (df['target_sensitivity'] == target_sensitivity)\n",
    "    ]\n",
    "\n",
    "    print(len(df))\n",
    "\n",
    "    # Average over random seeds\n",
    "    if not errors:\n",
    "        df = df.groupby(\n",
    "            ['predictor_name', 'budget_delta', 'budget_epsilon', 'target_sensitivity']\n",
    "        ).mean().reset_index()\n",
    "    else:\n",
    "        df = df.groupby(\n",
    "            ['predictor_name', 'budget_delta', 'budget_epsilon', 'target_sensitivity']\n",
    "        ).std().reset_index()\n",
    "\n",
    "    df = df.drop(columns=[\n",
    "        '_id',\n",
    "        'seed', 'budget_delta',\n",
    "        'target_sensitivity', '_id'])\n",
    "\n",
    "    df = df.sort_values(by=['predictor_name'])\n",
    "\n",
    "    return df"
   ]
  },
  {
   "cell_type": "code",
   "execution_count": 34,
   "metadata": {},
   "outputs": [],
   "source": [
    "budget_delta=0.0001\n",
    "target_sensitivity=10.0"
   ]
  },
  {
   "cell_type": "markdown",
   "metadata": {},
   "source": [
    "### No subsampling"
   ]
  },
  {
   "cell_type": "code",
   "execution_count": null,
   "metadata": {},
   "outputs": [],
   "source": [
    "df_mean_no_subsampling = create_table(df, budget_delta=budget_delta, target_sensitivity=target_sensitivity)\n",
    "df_mean_no_subsampling"
   ]
  },
  {
   "cell_type": "code",
   "execution_count": null,
   "metadata": {},
   "outputs": [],
   "source": [
    "df_std_no_subsampling = create_table(df, budget_delta=budget_delta, target_sensitivity=target_sensitivity, errors=True)\n",
    "df_std_no_subsampling"
   ]
  },
  {
   "cell_type": "code",
   "execution_count": null,
   "metadata": {},
   "outputs": [],
   "source": [
    "i = 0\n",
    "names = ['Seasonal ($r=1.0$)']\n",
    "\n",
    "acc = f'{names[0]} &'\n",
    "\n",
    "for i, (mean, std) in enumerate(zip(df_mean_no_subsampling['mean_wQuantileLoss'], df_std_no_subsampling['mean_wQuantileLoss'])):\n",
    "\n",
    "    if (i > 0) and ((i % 5)  == 0):\n",
    "        acc += ' ? \\\\\\\\'\n",
    "        print(acc)\n",
    "        acc = f'{names[i // 5]} &'\n",
    "    acc += ' $' + f'{mean:.3f}' + '$ '\n",
    "    acc += '\\\\tiny{$\\\\pm ' + f'{std:.3f}' + '$} &'\n",
    "\n",
    "acc += ' ? \\\\\\\\ '\n",
    "print(acc)"
   ]
  },
  {
   "cell_type": "code",
   "execution_count": null,
   "metadata": {},
   "outputs": [],
   "source": []
  }
 ],
 "metadata": {
  "kernelspec": {
   "display_name": "timeseries_dp",
   "language": "python",
   "name": "python3"
  },
  "language_info": {
   "codemirror_mode": {
    "name": "ipython",
    "version": 3
   },
   "file_extension": ".py",
   "mimetype": "text/x-python",
   "name": "python",
   "nbconvert_exporter": "python",
   "pygments_lexer": "ipython3",
   "version": "3.11.9"
  }
 },
 "nbformat": 4,
 "nbformat_minor": 2
}
