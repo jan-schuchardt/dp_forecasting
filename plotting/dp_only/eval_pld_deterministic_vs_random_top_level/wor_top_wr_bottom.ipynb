{
 "cells": [
  {
   "cell_type": "code",
   "execution_count": 1,
   "metadata": {},
   "outputs": [],
   "source": [
    "import os\n",
    "\n",
    "from seml import get_results\n",
    "import matplotlib.pyplot as plt\n",
    "import torch\n",
    "import pandas as pd\n",
    "\n",
    "import seaborn as sns"
   ]
  },
  {
   "cell_type": "code",
   "execution_count": null,
   "metadata": {},
   "outputs": [],
   "source": [
    "df = get_results('dp_timeseries_eval_pld_deterministic_vs_random_top_level',\n",
    "                 fields=['config.privacy_loss_kwargs.num_sequences',\n",
    "                         'config.privacy_loss_kwargs.top_level_mode',\n",
    "                         'config.privacy_loss_kwargs.min_sequence_length',\n",
    "                         'config.privacy_loss_kwargs.batch_size',\n",
    "                         'result.log_dir'],\n",
    "            to_data_frame=True,\n",
    "            filter_dict={\n",
    "                    'config.privacy_loss_kwargs.bottom_level_mode': 'sampling_with_replacement',\n",
    "                    'config.privacy_loss_kwargs.future_length': 1\n",
    "                })\n",
    "\n",
    "df = df.drop(columns=['_id'])\n",
    "\n",
    "df"
   ]
  },
  {
   "cell_type": "code",
   "execution_count": 3,
   "metadata": {},
   "outputs": [],
   "source": [
    "columns = df.columns\n",
    "\n",
    "df = df.rename(columns={\n",
    "    c: c.split('.')[-1]\n",
    "    for c in columns\n",
    "})"
   ]
  },
  {
   "cell_type": "code",
   "execution_count": 4,
   "metadata": {},
   "outputs": [],
   "source": [
    "def epsilons_deltas_from_log_dir(df):\n",
    "    data_dict = {\n",
    "        'epsilons': [],\n",
    "        'deltas': []}\n",
    "\n",
    "    for log_dir in df['log_dir']:\n",
    "        \n",
    "        save_dict = torch.load(os.path.join(log_dir, 'config_and_results.pyt'))\n",
    "        data_dict['epsilons'].append(save_dict['results']['epsilons'])\n",
    "        data_dict['deltas'].append(save_dict['results']['deltas'])\n",
    "    \n",
    "    return pd.DataFrame(data_dict)"
   ]
  },
  {
   "cell_type": "code",
   "execution_count": null,
   "metadata": {},
   "outputs": [],
   "source": [
    "df_results = pd.concat((df, epsilons_deltas_from_log_dir(df)), axis=1)\n",
    "df_results.head()"
   ]
  },
  {
   "cell_type": "code",
   "execution_count": 6,
   "metadata": {},
   "outputs": [],
   "source": [
    "def plot_tradeoff(df, min_sequence_length, batch_size, xlim=None, max_epoch=10):\n",
    "    df = df.copy()\n",
    "\n",
    "    df = df.loc[(df['min_sequence_length'] == min_sequence_length)\n",
    "                & (df['batch_size'] == batch_size)]\n",
    "\n",
    "    df = df[['num_sequences', 'top_level_mode', 'epsilons', 'deltas']]\n",
    "    df = df.sort_values('top_level_mode')\n",
    "\n",
    "    sns.set_theme()\n",
    "    pal = sns.color_palette('colorblind', 2)\n",
    "\n",
    "    fig, ax = mplt.subplots(1, 1)\n",
    "    \n",
    "    for _, (num_sequences, top_level_mode, epsilons, deltas) in df.iterrows():\n",
    "        assert (num_sequences % batch_size) == 0\n",
    "\n",
    "        steps_per_epoch = num_sequences // batch_size\n",
    "\n",
    "        if top_level_mode == 'iteration':\n",
    "            num_epochs = len(deltas)\n",
    "            assert max_epoch <= num_epochs\n",
    "\n",
    "            i_first_step = 0\n",
    "            i_first_epoch = 0\n",
    "            i_last_epoch = max_epoch - 1\n",
    "            color = pal[0]\n",
    "            label_method = 'Deterministic'\n",
    "        elif top_level_mode == 'sampling_without_replacement':\n",
    "            assert (len(deltas) % steps_per_epoch) == 0\n",
    "            num_epochs = len(deltas) // steps_per_epoch\n",
    "            assert max_epoch <= num_epochs\n",
    "\n",
    "            i_first_step = 0\n",
    "            i_first_epoch = steps_per_epoch - 1\n",
    "            i_last_epoch = steps_per_epoch * max_epoch - 1\n",
    "            color = pal[1]\n",
    "            label_method = 'Sampling (WOR)'\n",
    "        else:\n",
    "            raise ValueError\n",
    "        \n",
    "        if xlim is not None:\n",
    "            deltas = deltas[:, epsilons <= xlim]\n",
    "            epsilons = epsilons[epsilons <= xlim]\n",
    "\n",
    "        ax.plot(epsilons, deltas[i_last_epoch], label=label_method, color=color, linestyle='solid', clip_on=False, zorder=3)\n",
    "        ax.plot(epsilons, deltas[i_first_epoch], color=color, linestyle='dashed', clip_on=False, zorder=3)\n",
    "        ax.plot(epsilons, deltas[i_first_step], color=color, linestyle='dotted', clip_on=False, zorder=3)\n",
    "\n",
    "    ax.set_xscale('log')\n",
    "    #plt.yscale('log')\n",
    "\n",
    "    ax.minorticks_off()\n",
    "\n",
    "    legend_1 = ax.legend(loc='upper right')\n",
    "\n",
    "    # Separate legend for linestyle\n",
    "    linestyles = ['solid', 'dashed', 'dotted']\n",
    "    labels = ['Step $1$', 'Epoch $1$', f'Epoch {max_epoch}'][::-1]\n",
    "    dummy_lines = []\n",
    "    for linestyle, label in zip(linestyles, labels):\n",
    "        dummy_lines.append(ax.plot([],[], c=\"black\", linestyle=linestyle)[0])\n",
    "    ax.legend(dummy_lines, labels, loc='lower right')\n",
    "\n",
    "    # Add old legend back\n",
    "    ax.add_artist(legend_1)\n",
    "\n",
    "    \n",
    "    ax.set_xlabel('$\\epsilon$')\n",
    "    ax.set_ylabel('$\\delta(\\epsilon)$')\n",
    "    ax.set_ylim(bottom=0)\n",
    "    if xlim is not None:\n",
    "        ax.set_xlim(left=epsilons.min(), right=xlim)\n",
    "    else:\n",
    "        ax.set_xlim(left=epsilons.min(), right=epsilons.max())"
   ]
  },
  {
   "cell_type": "code",
   "execution_count": null,
   "metadata": {},
   "outputs": [],
   "source": [
    "min_sequence_lengths = [4, 4, 20, 20]\n",
    "batch_sizes = [32, 160, 32, 160]\n",
    "batch_size = 32\n",
    "\n",
    "save_dir = '/ceph/hdd/staff/schuchaj/dp_timeseries_plots_camera_icml25/eval_pld_deterministic_vs_random_top_level'\n",
    "\n",
    "for min_sequence_length, batch_size in zip(min_sequence_lengths, batch_sizes):\n",
    "\n",
    "    plot_tradeoff(df_results, min_sequence_length, batch_size, xlim=100)\n"
   ]
  },
  {
   "cell_type": "code",
   "execution_count": 9,
   "metadata": {},
   "outputs": [],
   "source": [
    "min_sequence_lengths = [20]\n",
    "batch_sizes = [32]\n",
    "batch_size = 32\n",
    "\n",
    "save_dir = '/ceph/hdd/staff/schuchaj/dp_timeseries_plots_camera_icml25/eval_pld_deterministic_vs_random_top_level'\n",
    "\n",
    "for min_sequence_length, batch_size in zip(min_sequence_lengths, batch_sizes):\n",
    "\n",
    "    plot_tradeoff(df_results, min_sequence_length, batch_size, xlim=10)\n"
   ]
  },
  {
   "cell_type": "code",
   "execution_count": null,
   "metadata": {},
   "outputs": [],
   "source": []
  }
 ],
 "metadata": {
  "kernelspec": {
   "display_name": "timeseries_dp",
   "language": "python",
   "name": "python3"
  },
  "language_info": {
   "codemirror_mode": {
    "name": "ipython",
    "version": 3
   },
   "file_extension": ".py",
   "mimetype": "text/x-python",
   "name": "python",
   "nbconvert_exporter": "python",
   "pygments_lexer": "ipython3",
   "version": "3.11.9"
  }
 },
 "nbformat": 4,
 "nbformat_minor": 2
}
