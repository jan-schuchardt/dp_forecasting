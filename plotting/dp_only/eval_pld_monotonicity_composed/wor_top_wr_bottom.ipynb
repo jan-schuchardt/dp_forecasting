{
 "cells": [
  {
   "cell_type": "code",
   "execution_count": 1,
   "metadata": {},
   "outputs": [],
   "source": [
    "import os\n",
    "\n",
    "from seml import get_results\n",
    "import matplotlib.pyplot as plt\n",
    "import torch\n",
    "import pandas as pd\n",
    "\n",
    "import seaborn as sns"
   ]
  },
  {
   "cell_type": "code",
   "execution_count": null,
   "metadata": {},
   "outputs": [],
   "source": [
    "df = get_results('dp_timeseries_eval_pld_monotonicity_composed',\n",
    "                 fields=['config.privacy_loss_kwargs.min_sequence_length',\n",
    "                         'config.privacy_loss_kwargs.batch_size',\n",
    "                         'config.privacy_loss_kwargs.instances_per_sequence',\n",
    "                         'result.log_dir'],\n",
    "                 filter_dict={\n",
    "                    'config.privacy_loss_kwargs.top_level_mode': 'sampling_without_replacement',\n",
    "                    'config.privacy_loss_kwargs.bottom_level_mode': 'sampling_with_replacement',\n",
    "                    'config.privacy_loss_kwargs.future_length': 1,\n",
    "                    'config.num_compositions': 1000\n",
    "                },\n",
    "            to_data_frame=True)\n",
    "\n",
    "df = df.drop(columns=['_id'])\n",
    "\n",
    "df"
   ]
  },
  {
   "cell_type": "code",
   "execution_count": 3,
   "metadata": {},
   "outputs": [],
   "source": [
    "columns = df.columns\n",
    "\n",
    "df = df.rename(columns={\n",
    "    c: c.split('.')[-1]\n",
    "    for c in columns\n",
    "})"
   ]
  },
  {
   "cell_type": "code",
   "execution_count": 4,
   "metadata": {},
   "outputs": [],
   "source": [
    "def epsilons_deltas_from_log_dir(df):\n",
    "    data_dict = {\n",
    "        'epsilons': [],\n",
    "        'deltas': []}\n",
    "\n",
    "    for log_dir in df['log_dir']:\n",
    "        \n",
    "        save_dict = torch.load(os.path.join(log_dir, 'config_and_results.pyt'))\n",
    "        data_dict['epsilons'].append(save_dict['results']['epsilons'])\n",
    "        data_dict['deltas'].append(save_dict['results']['deltas'])\n",
    "    \n",
    "    return pd.DataFrame(data_dict)"
   ]
  },
  {
   "cell_type": "code",
   "execution_count": null,
   "metadata": {},
   "outputs": [],
   "source": [
    "df_results = pd.concat((df, epsilons_deltas_from_log_dir(df)), axis=1)\n",
    "df_results.head()"
   ]
  },
  {
   "cell_type": "code",
   "execution_count": 6,
   "metadata": {},
   "outputs": [],
   "source": [
    "def plot_tradeoff(df, min_sequence_length, batch_size, num_compostions, num_instances_filter=None, xlim=None):\n",
    "    df = df.copy()\n",
    "\n",
    "    df = df.loc[(df['min_sequence_length'] == min_sequence_length)\n",
    "                & (df['batch_size'] == batch_size)]\n",
    "    \n",
    "    if num_instances_filter is not None:\n",
    "        df = df.loc(df['instances_per_sequence'].isin(num_instances_filter))\n",
    "\n",
    "    df = df[['instances_per_sequence', 'epsilons', 'deltas']]\n",
    "    df = df.sort_values('instances_per_sequence')\n",
    "\n",
    "    sns.set_theme()\n",
    "    pal = sns.color_palette('colorblind', 5)\n",
    "\n",
    "    fig, ax = plt.subplots(1, 1)\n",
    "    \n",
    "    for i, (_, (num_instances, epsilons, deltas)) in enumerate(df.iterrows()):\n",
    "\n",
    "        #deltas = deltas[(0 <= epsilons) & (epsilons <= 1)]\n",
    "        #epsilons = epsilons[(0 <= epsilons) & (epsilons <= 1)]\n",
    "        deltas = deltas[num_compostions - 1]\n",
    "\n",
    "        if xlim is not None:\n",
    "            deltas = deltas[epsilons <= xlim]\n",
    "            epsilons = epsilons[epsilons <= xlim]\n",
    "        \n",
    "        linestyle = 'solid' if (num_instances == 1) else 'dashed'\n",
    "        ax.plot(epsilons, deltas, linestyle=linestyle, zorder=3, clip_on=False, color=pal[i])\n",
    "        # Dummy lines for legend\n",
    "        ax.plot([], [], label=f'{num_instances}', linestyle='solid', zorder=3, clip_on=False, color=pal[i])\n",
    "\n",
    "    if xlim is not None:\n",
    "        ax.set_xlim(left=epsilons.min(), right=xlim)\n",
    "    else:\n",
    "        ax.set_xlim(left=epsilons.min(), right=epsilons.max())\n",
    "    ax.set_ylim(bottom=0)\n",
    "    ax.set_xscale('log')\n",
    "    #plt.yscale('log')\n",
    "\n",
    "    ax.minorticks_off()\n",
    "\n",
    "    if num_compostions == 1000:\n",
    "        loc = 'upper left'\n",
    "    else:\n",
    "        loc = 'upper right'\n",
    "    legend_1 = ax.legend(title='$\\lambda$', title_fontsize=10, loc=loc)\n",
    "    ax.set_xlabel('$\\epsilon$')\n",
    "    ax.set_ylabel('$\\delta(\\epsilon)$')\n",
    "\n",
    "    linestyles = ['solid', 'dashed']\n",
    "    labels = ['Tight upper bound', 'Lower bound']\n",
    "    dummy_lines = []\n",
    "    for linestyle, label in zip(linestyles, labels):\n",
    "        dummy_lines.append(ax.plot([],[], c=\"black\", linestyle=linestyle)[0])\n",
    "    ax.legend(dummy_lines, labels, loc='lower left')\n",
    "\n",
    "    # Add old legend back\n",
    "    ax.add_artist(legend_1)"
   ]
  },
  {
   "cell_type": "code",
   "execution_count": 7,
   "metadata": {},
   "outputs": [],
   "source": [
    "min_sequence_lengths = [4, 4, 4, 20, 20, 20, 20, 20, 20]\n",
    "batch_sizes = [32, 32, 32, 160, 160, 160, 32, 32, 32]\n",
    "num_compositions = [1, 100, 1000, 1, 100, 1000, 1, 100, 1000]\n",
    "\n",
    "save_dir = '/ceph/hdd/staff/schuchaj/dp_timeseries_plots_camera_icml25/eval_pld_monotonicity_composed'\n",
    "\n",
    "for min_sequence_length, batch_size, num_composition in zip(min_sequence_lengths,\n",
    "                                                             batch_sizes,\n",
    "                                                             num_compositions):\n",
    "\n",
    "    plot_tradeoff(df_results, min_sequence_length, batch_size, num_composition, None)"
   ]
  },
  {
   "cell_type": "code",
   "execution_count": 8,
   "metadata": {},
   "outputs": [],
   "source": [
    "min_sequence_lengths = [20, 20]\n",
    "batch_sizes = [32, 32]\n",
    "num_compositions = [1, 100]\n",
    "\n",
    "save_dir = '/ceph/hdd/staff/schuchaj/dp_timeseries_plots/eval_pld_monotonicity_composed'\n",
    "\n",
    "for min_sequence_length, batch_size, num_composition in zip(min_sequence_lengths,\n",
    "                                                             batch_sizes,\n",
    "                                                             num_compositions):\n",
    "\n",
    "    plot_tradeoff(df_results, min_sequence_length, batch_size, num_composition, None, xlim=10)"
   ]
  },
  {
   "cell_type": "code",
   "execution_count": null,
   "metadata": {},
   "outputs": [],
   "source": []
  },
  {
   "cell_type": "code",
   "execution_count": null,
   "metadata": {},
   "outputs": [],
   "source": []
  }
 ],
 "metadata": {
  "kernelspec": {
   "display_name": "timeseries_dp",
   "language": "python",
   "name": "python3"
  },
  "language_info": {
   "codemirror_mode": {
    "name": "ipython",
    "version": 3
   },
   "file_extension": ".py",
   "mimetype": "text/x-python",
   "name": "python",
   "nbconvert_exporter": "python",
   "pygments_lexer": "ipython3",
   "version": "3.11.9"
  }
 },
 "nbformat": 4,
 "nbformat_minor": 2
}
