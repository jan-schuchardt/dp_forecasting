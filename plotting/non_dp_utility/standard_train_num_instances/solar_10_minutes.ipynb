{
 "cells": [
  {
   "cell_type": "code",
   "execution_count": 8,
   "metadata": {},
   "outputs": [],
   "source": [
    "import pandas as pd\n",
    "from seml import get_results\n",
    "import seaborn as sns\n",
    "\n",
    "import matplotlib.pyplot as plt\n",
    "\n",
    "import numpy as np"
   ]
  },
  {
   "cell_type": "code",
   "execution_count": null,
   "metadata": {},
   "outputs": [],
   "source": [
    "df = get_results(\n",
    "    'dp_timeseries_standard_train_standard_eval',\n",
    "    [\n",
    "        'config.seed',\n",
    "        'config.estimator_name',\n",
    "        'config.top_level_mode',\n",
    "        'config.estimator_kwargs.trainer_kwargs.max_epochs',\n",
    "        'config.instances_per_sequence',\n",
    "        'config.estimator_kwargs.batch_size',\n",
    "        'result.metrics_test.mean_wQuantileLoss',\n",
    "        'result.metrics_test.MASE',\n",
    "    ],\n",
    "    to_data_frame=True,\n",
    "    filter_dict={\n",
    "        'config.dataset_kwargs.dataset_name': 'solar_10_minutes',\n",
    "        'config.estimator_kwargs.trainer_kwargs.max_epochs': {'$in': [16000, 8000, 4000, 2000, 1000]},\n",
    "        'config.instances_per_sequence': {'$in': [1, 2, 4, 8, 16]},\n",
    "        'config.estimator_kwargs.batch_size': 128,\n",
    "        'config.estimator_kwargs.relative_context_length': {'$in': [4]},\n",
    "        'config.estimator_kwargs.lags_seq': {'$in': [None,\n",
    "                                                     [1, 2, 3, 4, 5, 6, 7, 23, 24, 25, 47, 48, 49, 71, 72, 73,\n",
    "           95, 96, 97, 119, 120, 121, 143, 144, 145, 167, 168, 169]]},\n",
    "        'config.seed': {'$in': [0, 1, 2, 3, 4]}\n",
    "    }\n",
    ")\n",
    "\n",
    "df = df.loc[\n",
    "    (df['config.estimator_kwargs.trainer_kwargs.max_epochs']\n",
    "     * df['config.instances_per_sequence']) == 16000\n",
    "]\n",
    "\n",
    "len(df)"
   ]
  },
  {
   "cell_type": "code",
   "execution_count": 10,
   "metadata": {},
   "outputs": [],
   "source": [
    "columns = df.columns[1:]\n",
    "\n",
    "df = df.rename(columns={\n",
    "    c: c.split('.')[-1]\n",
    "    for c in columns\n",
    "})"
   ]
  },
  {
   "cell_type": "code",
   "execution_count": null,
   "metadata": {},
   "outputs": [],
   "source": [
    "def mode_renamer(x):\n",
    "    rename_dict = {\n",
    "        'shuffling': 'Shuffling',\n",
    "        'iteration': 'Iteration',\n",
    "        'sampling_without_replacement': 'WOR'\n",
    "    }\n",
    "\n",
    "    return rename_dict[x]\n",
    "\n",
    "df['top_level_mode'] = df['top_level_mode'].apply(mode_renamer)\n",
    "df.head()"
   ]
  },
  {
   "cell_type": "code",
   "execution_count": 12,
   "metadata": {},
   "outputs": [],
   "source": [
    "def plot(df) -> None:\n",
    "\n",
    "    original_df = df.copy()\n",
    "\n",
    "    fig, axs = plt.subplots(nrows=2, ncols=2)\n",
    "\n",
    "    for n, estimator_name in enumerate(original_df['estimator_name'].unique()):\n",
    "        i, j = np.unravel_index(n, (2, 2))\n",
    "        ax = axs[i, j]\n",
    "\n",
    "        df = original_df.loc[original_df['estimator_name'] == estimator_name]\n",
    "        df = df.sort_values(by=['instances_per_sequence', 'estimator_name', 'top_level_mode'])\n",
    "\n",
    "        sns.barplot(df, x='instances_per_sequence', y='mean_wQuantileLoss', hue='top_level_mode',\n",
    "                    errorbar='sd', ax=ax)\n",
    "\n",
    "        ax.set_xlabel('Subsequences $\\lambda$')\n",
    "        ax.set_ylabel('CRPS')\n",
    "\n",
    "        ax.legend(title=None, loc='lower right')\n",
    "        ax.set_title(estimator_name.removesuffix('Estimator'))"
   ]
  },
  {
   "cell_type": "code",
   "execution_count": null,
   "metadata": {},
   "outputs": [],
   "source": [
    "plot(df)"
   ]
  }
 ],
 "metadata": {
  "kernelspec": {
   "display_name": "timeseries_dp",
   "language": "python",
   "name": "python3"
  },
  "language_info": {
   "codemirror_mode": {
    "name": "ipython",
    "version": 3
   },
   "file_extension": ".py",
   "mimetype": "text/x-python",
   "name": "python",
   "nbconvert_exporter": "python",
   "pygments_lexer": "ipython3",
   "version": "3.11.9"
  }
 },
 "nbformat": 4,
 "nbformat_minor": 2
}
